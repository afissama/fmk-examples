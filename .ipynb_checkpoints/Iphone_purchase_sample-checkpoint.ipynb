{
 "cells": [
  {
   "cell_type": "code",
   "execution_count": 158,
   "id": "29fdf789",
   "metadata": {},
   "outputs": [],
   "source": [
    "\n",
    "##### STEP - 1\n",
    "##### classifier using LOGISTIC REGRESSION\n",
    "# Here we will predict weither or not an given individu\n",
    "# will bye or not an iphone\n",
    "\n",
    "# LOADING THE DATASET\n",
    "\n",
    "import pandas as pd\n",
    "dataset = pd.read_csv(\"datasets/iphone_purchase_records.csv\")\n",
    "X = dataset.iloc[:,:-1].values\n",
    "y = dataset.iloc[:, 3].values"
   ]
  },
  {
   "cell_type": "code",
   "execution_count": 159,
   "id": "06d6eb20",
   "metadata": {},
   "outputs": [],
   "source": [
    "\n",
    "# CONVERT GENDER TO NUMBER\n",
    "\n",
    "from sklearn.preprocessing import LabelEncoder\n",
    "labelEncoder_gender =  LabelEncoder()\n",
    "X[:,0] = labelEncoder_gender.fit_transform(X[:,0])\n"
   ]
  },
  {
   "cell_type": "code",
   "execution_count": 160,
   "id": "09c5f0e0",
   "metadata": {},
   "outputs": [],
   "source": [
    "\n",
    "# SPLITING\n",
    "from sklearn.model_selection import train_test_split\n",
    "X_train, X_test, y_train, y_test = train_test_split(X, y, test_size=0.25, random_state=0)\n"
   ]
  },
  {
   "cell_type": "code",
   "execution_count": 161,
   "id": "8d3f5fcd",
   "metadata": {},
   "outputs": [],
   "source": [
    "from sklearn.preprocessing import StandardScaler\n",
    "sc = StandardScaler()\n",
    "X_train = sc.fit_transform(X_train)\n",
    "X_test = sc.transform(X_test)"
   ]
  },
  {
   "cell_type": "code",
   "execution_count": 162,
   "id": "f4d191b5",
   "metadata": {},
   "outputs": [
    {
     "data": {
      "text/plain": [
       "LogisticRegression(random_state=0, solver='liblinear')"
      ]
     },
     "execution_count": 162,
     "metadata": {},
     "output_type": "execute_result"
    }
   ],
   "source": [
    "\n",
    "# Step 5 - Logistic Regression Classifier\n",
    "from sklearn.linear_model import LogisticRegression\n",
    "classifier = LogisticRegression(random_state=0, solver=\"liblinear\")\n",
    "classifier.fit(X_train, y_train)\n"
   ]
  },
  {
   "cell_type": "code",
   "execution_count": 163,
   "id": "5a51b0c7",
   "metadata": {},
   "outputs": [],
   "source": [
    "\n",
    "# Step PREDICT\n",
    "y_pred = classifier.predict(X_test)\n"
   ]
  },
  {
   "cell_type": "code",
   "execution_count": 164,
   "id": "b74316db",
   "metadata": {},
   "outputs": [
    {
     "name": "stdout",
     "output_type": "stream",
     "text": [
      "[[66  2]\n",
      " [ 8 24]]\n",
      "Accuracy score: 0.9\n",
      "Precision score: 0.9230769230769231\n",
      "Recall score: 0.75\n"
     ]
    }
   ],
   "source": [
    "\n",
    "# CONFUSION MATRIX\n",
    "\n",
    "from sklearn import metrics\n",
    "cm = metrics.confusion_matrix(y_test, y_pred) \n",
    "print(cm)\n",
    "accuracy = metrics.accuracy_score(y_test, y_pred) \n",
    "print(\"Accuracy score:\",accuracy)\n",
    "precision = metrics.precision_score(y_test, y_pred) \n",
    "print(\"Precision score:\",precision)\n",
    "recall = metrics.recall_score(y_test, y_pred) \n",
    "print(\"Recall score:\",recall)"
   ]
  },
  {
   "cell_type": "code",
   "execution_count": 165,
   "id": "a4a1263b",
   "metadata": {},
   "outputs": [],
   "source": [
    "# The initial dataset contains 70% female and 30% male\n",
    "# Lets analyse if our model is not only performed well because of that."
   ]
  },
  {
   "cell_type": "code",
   "execution_count": 166,
   "id": "39ee79d5",
   "metadata": {},
   "outputs": [
    {
     "name": "stdout",
     "output_type": "stream",
     "text": [
      "objective: 0.0\n",
      "Female    50\n",
      "Male      50\n",
      "Name: Gender, dtype: int64\n"
     ]
    }
   ],
   "source": [
    "##### STEP - 2\n",
    "##### Let's analyse our model bias now\n",
    "# Here we will predict weither or not an given individu\n",
    "# will bye or not an iphone\n",
    "\n",
    "\n",
    "import pandas as pd\n",
    "from fmkforml.makers.fairmaker import *\n",
    "from fmkforml.checkers.fairchecker import *\n",
    "\n",
    "\n",
    "# only the feature Gender will be considerated for test build\n",
    "dataset_fair = get_most_fair_test_dt(dataset, coef=0.25, columns=[\"Gender\"])\n",
    "\n",
    "print(df[\"Gender\"].value_counts())"
   ]
  },
  {
   "cell_type": "code",
   "execution_count": 167,
   "id": "78edba05",
   "metadata": {},
   "outputs": [],
   "source": [
    "X_fair = dataset_fair.iloc[:,:-1].values\n",
    "y_fair = dataset_fair.iloc[:, 3].values\n",
    "\n",
    "X_fair[:,0] = labelEncoder_gender.fit_transform(X_fair[:,0])\n",
    "X_fair = sc.transform(X_fair)"
   ]
  },
  {
   "cell_type": "code",
   "execution_count": 168,
   "id": "312f172e",
   "metadata": {},
   "outputs": [],
   "source": [
    "y_fair_pred = classifier.predict(X_fair)"
   ]
  },
  {
   "cell_type": "code",
   "execution_count": 169,
   "id": "81c54e84",
   "metadata": {},
   "outputs": [
    {
     "name": "stdout",
     "output_type": "stream",
     "text": [
      "[[80  2]\n",
      " [16  2]]\n",
      "Accuracy score: 0.82\n",
      "Precision score: 0.5\n",
      "Recall score: 0.1111111111111111\n"
     ]
    }
   ],
   "source": [
    "\n",
    "# CONFUSION MATRIX\n",
    "\n",
    "from sklearn import metrics\n",
    "cm = metrics.confusion_matrix(y_fair, y_fair_pred) \n",
    "print(cm)\n",
    "accuracy = metrics.accuracy_score(y_fair, y_fair_pred) \n",
    "print(\"Accuracy score:\",accuracy)\n",
    "precision = metrics.precision_score(y_fair, y_fair_pred) \n",
    "print(\"Precision score:\",precision)\n",
    "recall = metrics.recall_score(y_fair, y_fair_pred) \n",
    "print(\"Recall score:\",recall)"
   ]
  },
  {
   "cell_type": "code",
   "execution_count": 170,
   "id": "753a1957",
   "metadata": {},
   "outputs": [],
   "source": [
    "# The accuracy fall from 0.9 to 0.82\n",
    "# The prcision from 0.92 to 0.5\n",
    "# And worst the recall from 0.75 to 0.1"
   ]
  },
  {
   "cell_type": "code",
   "execution_count": null,
   "id": "ea8ca011",
   "metadata": {},
   "outputs": [],
   "source": []
  }
 ],
 "metadata": {
  "kernelspec": {
   "display_name": "Python 3 (ipykernel)",
   "language": "python",
   "name": "python3"
  },
  "language_info": {
   "codemirror_mode": {
    "name": "ipython",
    "version": 3
   },
   "file_extension": ".py",
   "mimetype": "text/x-python",
   "name": "python",
   "nbconvert_exporter": "python",
   "pygments_lexer": "ipython3",
   "version": "3.9.12"
  },
  "vscode": {
   "interpreter": {
    "hash": "794d9dfc70fbd35eded8efb0a40ccc9108fcf38712879adf62db4ff4adc42547"
   }
  }
 },
 "nbformat": 4,
 "nbformat_minor": 5
}
