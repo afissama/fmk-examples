{
 "cells": [
  {
   "cell_type": "code",
   "execution_count": 1,
   "id": "c03b74d2",
   "metadata": {},
   "outputs": [
    {
     "ename": "ModuleNotFoundError",
     "evalue": "No module named 'pandas'",
     "output_type": "error",
     "traceback": [
      "\u001b[1;31m---------------------------------------------------------------------------\u001b[0m",
      "\u001b[1;31mModuleNotFoundError\u001b[0m                       Traceback (most recent call last)",
      "Cell \u001b[1;32mIn[1], line 8\u001b[0m\n\u001b[0;32m      1\u001b[0m \u001b[39m##### STEP - 1\u001b[39;00m\n\u001b[0;32m      2\u001b[0m \u001b[39m##### classifier using LOGISTIC REGRESSION\u001b[39;00m\n\u001b[0;32m      3\u001b[0m \u001b[39m# Here we will predict weither or not an given individu\u001b[39;00m\n\u001b[0;32m      4\u001b[0m \u001b[39m# will bye or not an iphone\u001b[39;00m\n\u001b[0;32m      5\u001b[0m \n\u001b[0;32m      6\u001b[0m \u001b[39m# LOADING THE DATASET\u001b[39;00m\n\u001b[1;32m----> 8\u001b[0m \u001b[39mimport\u001b[39;00m \u001b[39mpandas\u001b[39;00m \u001b[39mas\u001b[39;00m \u001b[39mpd\u001b[39;00m\n\u001b[0;32m      9\u001b[0m dataset \u001b[39m=\u001b[39m pd\u001b[39m.\u001b[39mread_csv(\u001b[39m\"\u001b[39m\u001b[39mdatasets/iphone_purchase_records.csv\u001b[39m\u001b[39m\"\u001b[39m)\n\u001b[0;32m     10\u001b[0m X \u001b[39m=\u001b[39m dataset\u001b[39m.\u001b[39miloc[:,:\u001b[39m-\u001b[39m\u001b[39m1\u001b[39m]\u001b[39m.\u001b[39mvalues\n",
      "\u001b[1;31mModuleNotFoundError\u001b[0m: No module named 'pandas'"
     ]
    }
   ],
   "source": [
    "\n",
    "##### STEP - 1\n",
    "##### classifier using LOGISTIC REGRESSION\n",
    "# Here we will predict weither or not an given individu\n",
    "# will bye or not an iphone\n",
    "\n",
    "# LOADING THE DATASET\n",
    "\n",
    "import pandas as pd\n",
    "dataset = pd.read_csv(\"datasets/iphone_purchase_records.csv\")\n",
    "X = dataset.iloc[:,:-1].values\n",
    "y = dataset.iloc[:, 3].values"
   ]
  },
  {
   "cell_type": "code",
   "execution_count": 147,
   "id": "026453be",
   "metadata": {},
   "outputs": [],
   "source": [
    "\n",
    "# CONVERT GENDER TO NUMBER\n",
    "\n",
    "from sklearn.preprocessing import LabelEncoder\n",
    "labelEncoder_gender =  LabelEncoder()\n",
    "X[:,0] = labelEncoder_gender.fit_transform(X[:,0])\n"
   ]
  },
  {
   "cell_type": "code",
   "execution_count": 148,
   "id": "e6d96889",
   "metadata": {},
   "outputs": [],
   "source": [
    "\n",
    "# SPLITING\n",
    "from sklearn.model_selection import train_test_split\n",
    "X_train, X_test, y_train, y_test = train_test_split(X, y, test_size=0.25, random_state=0)\n"
   ]
  },
  {
   "cell_type": "code",
   "execution_count": 149,
   "id": "3e62dbe3",
   "metadata": {},
   "outputs": [],
   "source": [
    "from sklearn.preprocessing import StandardScaler\n",
    "sc = StandardScaler()\n",
    "X_train = sc.fit_transform(X_train)\n",
    "X_test = sc.transform(X_test)"
   ]
  },
  {
   "cell_type": "code",
   "execution_count": 150,
   "id": "da6f4368",
   "metadata": {},
   "outputs": [
    {
     "data": {
      "text/plain": [
       "LogisticRegression(random_state=0, solver='liblinear')"
      ]
     },
     "execution_count": 150,
     "metadata": {},
     "output_type": "execute_result"
    }
   ],
   "source": [
    "\n",
    "# Step 5 - Logistic Regression Classifier\n",
    "from sklearn.linear_model import LogisticRegression\n",
    "classifier = LogisticRegression(random_state=0, solver=\"liblinear\")\n",
    "classifier.fit(X_train, y_train)\n"
   ]
  },
  {
   "cell_type": "code",
   "execution_count": 151,
   "id": "0fe2d1dc",
   "metadata": {},
   "outputs": [],
   "source": [
    "\n",
    "# Step PREDICT\n",
    "y_pred = classifier.predict(X_test)\n"
   ]
  },
  {
   "cell_type": "code",
   "execution_count": 152,
   "id": "b709fbdf",
   "metadata": {},
   "outputs": [
    {
     "name": "stdout",
     "output_type": "stream",
     "text": [
      "[[66  2]\n",
      " [ 8 24]]\n",
      "Accuracy score: 0.9\n",
      "Precision score: 0.9230769230769231\n",
      "Recall score: 0.75\n"
     ]
    }
   ],
   "source": [
    "\n",
    "# CONFUSION MATRIX\n",
    "\n",
    "from sklearn import metrics\n",
    "cm = metrics.confusion_matrix(y_test, y_pred) \n",
    "print(cm)\n",
    "accuracy = metrics.accuracy_score(y_test, y_pred) \n",
    "print(\"Accuracy score:\",accuracy)\n",
    "precision = metrics.precision_score(y_test, y_pred) \n",
    "print(\"Precision score:\",precision)\n",
    "recall = metrics.recall_score(y_test, y_pred) \n",
    "print(\"Recall score:\",recall)"
   ]
  },
  {
   "cell_type": "code",
   "execution_count": 153,
   "id": "e5b8dbd9",
   "metadata": {},
   "outputs": [],
   "source": [
    "# The initial dataset contains 70% female and 30% male\n",
    "# Lets analyse if our model is not only performed well because of that."
   ]
  },
  {
   "cell_type": "code",
   "execution_count": 154,
   "id": "f94de6d3",
   "metadata": {},
   "outputs": [
    {
     "name": "stdout",
     "output_type": "stream",
     "text": [
      "objective: 0.0\n",
      "Female    50\n",
      "Male      50\n",
      "Name: Gender, dtype: int64\n"
     ]
    }
   ],
   "source": [
    "##### STEP - 2\n",
    "##### Let's analyse our model bias now\n",
    "# Here we will predict weither or not an given individu\n",
    "# will bye or not an iphone\n",
    "\n",
    "\n",
    "import pandas as pd\n",
    "from fmkforml.makers.fairmaker import *\n",
    "from fmkforml.checkers.fairchecker import *\n",
    "\n",
    "\n",
    "# only the feature Gender will be considerated for test build\n",
    "dataset_fair = get_most_fair_test_dt(dataset, coef=0.25, columns=[\"Gender\"])\n",
    "\n",
    "print(df[\"Gender\"].value_counts())"
   ]
  },
  {
   "cell_type": "code",
   "execution_count": 155,
   "id": "8c88b29c",
   "metadata": {},
   "outputs": [],
   "source": [
    "X_fair = dataset_fair.iloc[:,:-1].values\n",
    "y_fair = dataset_fair.iloc[:, 3].values\n",
    "\n",
    "X_fair[:,0] = labelEncoder_gender.fit_transform(X_fair[:,0])\n",
    "X_fair = sc.transform(X_fair)"
   ]
  },
  {
   "cell_type": "code",
   "execution_count": 156,
   "id": "f552a949",
   "metadata": {},
   "outputs": [],
   "source": [
    "y_fair_pred = classifier.predict(X_fair)"
   ]
  },
  {
   "cell_type": "code",
   "execution_count": 157,
   "id": "abf55224",
   "metadata": {},
   "outputs": [
    {
     "name": "stdout",
     "output_type": "stream",
     "text": [
      "[[80  2]\n",
      " [16  2]]\n",
      "Accuracy score: 0.82\n",
      "Precision score: 0.5\n",
      "Recall score: 0.1111111111111111\n"
     ]
    }
   ],
   "source": [
    "\n",
    "# CONFUSION MATRIX\n",
    "\n",
    "from sklearn import metrics\n",
    "cm = metrics.confusion_matrix(y_fair, y_fair_pred) \n",
    "print(cm)\n",
    "accuracy = metrics.accuracy_score(y_fair, y_fair_pred) \n",
    "print(\"Accuracy score:\",accuracy)\n",
    "precision = metrics.precision_score(y_fair, y_fair_pred) \n",
    "print(\"Precision score:\",precision)\n",
    "recall = metrics.recall_score(y_fair, y_fair_pred) \n",
    "print(\"Recall score:\",recall)"
   ]
  },
  {
   "cell_type": "code",
   "execution_count": null,
   "id": "ab60262b",
   "metadata": {},
   "outputs": [],
   "source": []
  }
 ],
 "metadata": {
  "kernelspec": {
   "display_name": "Python 3 (ipykernel)",
   "language": "python",
   "name": "python3"
  },
  "language_info": {
   "codemirror_mode": {
    "name": "ipython",
    "version": 3
   },
   "file_extension": ".py",
   "mimetype": "text/x-python",
   "name": "python",
   "nbconvert_exporter": "python",
   "pygments_lexer": "ipython3",
   "version": "3.10.4 (tags/v3.10.4:9d38120, Mar 23 2022, 23:13:41) [MSC v.1929 64 bit (AMD64)]"
  },
  "vscode": {
   "interpreter": {
    "hash": "794d9dfc70fbd35eded8efb0a40ccc9108fcf38712879adf62db4ff4adc42547"
   }
  }
 },
 "nbformat": 4,
 "nbformat_minor": 5
}
